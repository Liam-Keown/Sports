{
 "cells": [
  {
   "cell_type": "code",
   "execution_count": null,
   "metadata": {},
   "outputs": [],
   "source": [
    "import numpy as np\n",
    "import torch\n",
    "from torch import nn\n",
    "import requests\n",
    "from bs4 import BeautifulSoup\n",
    "import pandas as pd\n",
    "import csv"
   ]
  },
  {
   "cell_type": "code",
   "execution_count": null,
   "metadata": {},
   "outputs": [],
   "source": [
    "########## EXTRACT GAME DATA\n",
    "def extract_results(url, filename):\n",
    "    response = requests.get(url)\n",
    "    soup = BeautifulSoup(response.content, 'html.parser')\n",
    "    table = soup.find('div', {'class': 'noresize overflowbugx'})\n",
    "\n",
    "    headers = []\n",
    "    for th in table.find_all('th'):\n",
    "        headers.append(th.text.strip())\n",
    "\n",
    "    rows = []\n",
    "    for tr in table.find_all('tr'):\n",
    "        cells = tr.find_all(['td', 'th'])\n",
    "        row = [cell.text.strip() for cell in cells]\n",
    "        rows.append(row)\n",
    "\n",
    "    with open(filename, 'w', newline='', encoding='utf-8') as f:\n",
    "        writer = csv.writer(f)\n",
    "        \n",
    "        writer.writerows(rows)\n",
    "\n",
    "    print(f\"Data has been saved to {filename}\")\n",
    "\n",
    "link = 'https://en.wikipedia.org/wiki/2023%E2%80%9324_Premier_League'\n",
    "results_file = 'results_table.csv'\n",
    "extract_results(link, results_file)"
   ]
  },
  {
   "cell_type": "code",
   "execution_count": null,
   "metadata": {},
   "outputs": [],
   "source": [
    "#######READ IN DATA\n",
    "def read_results(filename):\n",
    "    df = pd.read_csv(filename)\n",
    "    print('Results available for use')\n",
    "\n",
    "results = read_results(results_file)\n"
   ]
  },
  {
   "cell_type": "code",
   "execution_count": null,
   "metadata": {},
   "outputs": [],
   "source": [
    "class Team:\n",
    "    def __init__(self, name):\n",
    "        self.name = name \n",
    "        self.no_wins = 0\n",
    "        self.no_losses = 0\n",
    "        self.no_draws = 0\n",
    "        self.points = 0"
   ]
  }
 ],
 "metadata": {
  "language_info": {
   "name": "python"
  }
 },
 "nbformat": 4,
 "nbformat_minor": 2
}
